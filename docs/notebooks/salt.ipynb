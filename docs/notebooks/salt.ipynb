{
 "cells": [
  {
   "cell_type": "markdown",
   "metadata": {
    "collapsed": true,
    "pycharm": {
     "name": "#%% md\n"
    }
   },
   "source": [
    "# Programmatically creating a SALT finder chart\n",
    "\n",
    "```{note}\n",
    "You can find this tutorial in the folder ``docs/notebooks`` in imephu's repository.\n",
    "```\n",
    "\n",
    "While having a command line interface (``imephu``) is helpful, there are use cases where you would rather create the finder chart in a Python script. For example, you might have a pipeline which is triggered by some event, creates the finder chart for it, assembles a block and then submits it.\n",
    "\n",
    "Let's see how to achieve the part of creating the finder chart. We assume that we can use the UKSTU/POSS2 Red image survey and need a finder chart for an NIR observation. The first step is to collect all the necessary information."
   ]
  },
  {
   "cell_type": "code",
   "execution_count": null,
   "metadata": {
    "pycharm": {
     "name": "#%%\n"
    }
   },
   "outputs": [],
   "source": [
    "import astropy.units as u\n",
    "from astropy.coordinates import SkyCoord\n",
    "from imephu.salt.finder_chart import GeneralProperties, MagnitudeRange, Target\n",
    "\n",
    "position = SkyCoord(ra=\"15h 49m 49.5s\", dec=\"−29° 23′ 13″\")\n",
    "survey = \"POSS2/UKSTU Red\"\n",
    "general_properties = GeneralProperties(\n",
    "    target=Target(\n",
    "        name=\"NGC 6000\",\n",
    "        position=position,\n",
    "        magnitude_range=MagnitudeRange(\n",
    "            bandpass=\"V\",\n",
    "            min_magnitude=11.3,\n",
    "            max_magnitude=11.3\n",
    "        )\n",
    "    ),\n",
    "    position_angle=0 * u.deg,\n",
    "    automated_position_angle=False,\n",
    "    proposal_code=\"2022-1-SCI-042\",\n",
    "    pi_family_name=\"Doe\",\n",
    "    survey=survey\n",
    ")"
   ]
  },
  {
   "cell_type": "markdown",
   "metadata": {
    "collapsed": false,
    "pycharm": {
     "name": "#%% md\n"
    }
   },
   "source": [
    "The second step is to get the FITS image. Conveniently, there is a function for this."
   ]
  },
  {
   "cell_type": "code",
   "execution_count": null,
   "metadata": {
    "pycharm": {
     "name": "#%%\n"
    }
   },
   "outputs": [],
   "source": [
    "from imephu.service.survey import load_fits\n",
    "\n",
    "fits = load_fits(survey=survey, fits_center=position, size=10 * u.arcmin)"
   ]
  },
  {
   "cell_type": "markdown",
   "metadata": {
    "collapsed": false,
    "pycharm": {
     "name": "#%% md\n"
    }
   },
   "source": [
    "Creating the finder chart now is straightforward."
   ]
  },
  {
   "cell_type": "code",
   "execution_count": null,
   "metadata": {
    "pycharm": {
     "name": "#%%\n"
    }
   },
   "outputs": [],
   "source": [
    "from imephu.salt.finder_chart import nir_finder_chart\n",
    "\n",
    "finder_chart = nir_finder_chart(fits=fits, general=general_properties, science_bundle_center=position, bundle_separation=50 * u.arcsec)\n"
   ]
  },
  {
   "cell_type": "markdown",
   "metadata": {
    "collapsed": false,
    "pycharm": {
     "name": "#%% md\n"
    }
   },
   "source": [
    "What does this finder chart look like? To find an answer we save it as a png image and show that image. (There is a simpler way if you just need to show the finder chart on the screen, as will be shown below.)"
   ]
  },
  {
   "cell_type": "code",
   "execution_count": null,
   "metadata": {
    "pycharm": {
     "name": "#%%\n"
    }
   },
   "outputs": [],
   "source": [
    "from io import BytesIO\n",
    "from PIL import Image\n",
    "\n",
    "image_content = BytesIO()\n",
    "finder_chart.save(image_content)\n",
    "\n",
    "image = Image.open(image_content)\n",
    "image"
   ]
  },
  {
   "cell_type": "markdown",
   "metadata": {
    "collapsed": false,
    "pycharm": {
     "name": "#%% md\n"
    }
   },
   "source": [
    "Two quick notes might be appropriate here.\n",
    "\n",
    "1. Instead of a ``~io.BytesIO`` you could pass a string or path-like object to save the finder chart in a file.\n",
    "2. You can pass a format to the finder chart's ``save`` method to use a different image format, such as pdf.\n",
    "\n",
    "So far we haven't gained much; the finder chart we have just created can automatically be created during a proposal submission anyway. But let's up the game and add some annotations to the chart. For simplicity, we'll just add a circle and some text."
   ]
  },
  {
   "cell_type": "code",
   "execution_count": null,
   "metadata": {
    "pycharm": {
     "name": "#%%\n"
    }
   },
   "outputs": [],
   "source": [
    "from astropy.coordinates import Angle\n",
    "from imephu.annotation.general import CircleAnnotation, TextAnnotation\n",
    "from imephu.geometry import translate\n",
    "\n",
    "wcs = finder_chart.wcs\n",
    "circle = CircleAnnotation(\n",
    "    center=position,\n",
    "    radius=3 * u.arcmin,\n",
    "    wcs=wcs,\n",
    "    edgecolor=\"none\",\n",
    "    facecolor=\"green\",\n",
    "    alpha=0.2\n",
    ")\n",
    "\n",
    "text_position = translate(position, Angle([0 * u.arcmin, -3.2 * u.arcmin]))\n",
    "text = TextAnnotation(\n",
    "    position=text_position,\n",
    "    s=\"NGC 6000 is in this circle\",\n",
    "    wcs=wcs,\n",
    "    color=\"blue\",\n",
    "    fontsize=14\n",
    ")\n",
    "\n",
    "finder_chart.add_annotation(circle)\n",
    "finder_chart.add_annotation(text)"
   ]
  },
  {
   "cell_type": "markdown",
   "metadata": {
    "collapsed": false,
    "pycharm": {
     "name": "#%% md\n"
    }
   },
   "source": [
    "Let's see whether this has worked as intended (and illustrate the promised simpler way of displaying a finder chart on the screen)."
   ]
  },
  {
   "cell_type": "code",
   "execution_count": null,
   "metadata": {
    "pycharm": {
     "name": "#%%\n"
    }
   },
   "outputs": [],
   "source": [
    "finder_chart.show()"
   ]
  },
  {
   "cell_type": "markdown",
   "metadata": {
    "collapsed": false,
    "pycharm": {
     "name": "#%% md\n"
    }
   },
   "source": [
    "Note that when creating an annotation you have to use the world coordinate system (WCS) for the finder chart, which is exposed as a property. The `translate` function moves a position by a given right ascension and declination. In this example we have used it to move the text by -3.2 arcminutes in declination.\n",
    "\n"
   ]
  }
 ],
 "metadata": {
  "kernelspec": {
   "display_name": "Python 3",
   "language": "python",
   "name": "python3"
  },
  "language_info": {
   "codemirror_mode": {
    "name": "ipython",
    "version": 2
   },
   "file_extension": ".py",
   "mimetype": "text/x-python",
   "name": "python",
   "nbconvert_exporter": "python",
   "pygments_lexer": "ipython2",
   "version": "2.7.6"
  }
 },
 "nbformat": 4,
 "nbformat_minor": 0
}
